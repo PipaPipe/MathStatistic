{
 "cells": [
  {
   "cell_type": "code",
   "execution_count": 110,
   "id": "90d3eae0",
   "metadata": {},
   "outputs": [],
   "source": [
    "\n",
    "from random import random, uniform\n",
    "import math\n",
    "import matplotlib.pyplot as plt\n",
    "import seaborn as sns\n",
    "import numpy as np\n",
    "import scipy.stats"
   ]
  },
  {
   "cell_type": "code",
   "execution_count": 111,
   "id": "42e7512c",
   "metadata": {
    "scrolled": true
   },
   "outputs": [],
   "source": [
    "class MonteCarloIntegral:\n",
    "    def __init__(self, upper_limit=2, lower_limit=1,\n",
    "                 number_of_series=200, number_of_iteration=500,\n",
    "                 ):\n",
    "        # upper_limit = верхний предел для интеграла\n",
    "        # lower_limit - нижний пределе для интеграла\n",
    "        # number_of_series - кол-во серий\n",
    "        # number_of_iteration - кол-во имитаций в 1 серии\n",
    "        # series_list - лист который содержит в себе все 200 вычисленных серий\n",
    "        # list_of_series_deviation - список отклонений\n",
    "        # math_expectation - мат.ожидание\n",
    "        # variance - дисперсия        \n",
    "        self.upper_limit = upper_limit\n",
    "        self.lower_limit = lower_limit\n",
    "        self.number_of_series = number_of_series\n",
    "        self.number_of_iteration = number_of_iteration\n",
    "        self.integral_practical_value = None\n",
    "        self.series_list = []\n",
    "        self.list_of_series_deviation = []\n",
    "        self.math_expectation = None\n",
    "        self.variance = None\n",
    "        self.assymetry = None\n",
    "        self.excess = None\n",
    "        self.median = None\n",
    "\n",
    "    # Генерация значения из пределов\n",
    "    def generate_random_limit_value(self):\n",
    "        return random() * math.fabs(self.upper_limit - self.lower_limit) + self.lower_limit\n",
    "\n",
    "    # Вычисление одной подынтегральной функции\n",
    "    def get_integral_function(self):\n",
    "        return math.log(MonteCarloIntegral.generate_random_limit_value(self) - 1)\n",
    "        \n",
    "    # Вычисление интеграла для одной серии\n",
    "    def calculate_integral(self):\n",
    "        self.integral_practical_value = \\\n",
    "            (self.upper_limit - self.lower_limit) / self.number_of_iteration \\\n",
    "            * sum([self.get_integral_function() for _ in range(self.number_of_iteration)])\n",
    "        return self.integral_practical_value\n",
    "\n",
    "    # Серийное вычисление интеграла (200 серий по 500 вычислений)\n",
    "    def get_series(self):\n",
    "        self.series_list = [MonteCarloIntegral.calculate_integral(self) for _ in range(self.number_of_series)]\n",
    "        return self.series_list            \n",
    "\n",
    "    # Задание №2\n",
    "    # Вычисление относительной погрешности в каждой серии\n",
    "    def get_series_deviation(self):\n",
    "        self.list_of_series_deviation = \\\n",
    "            [(-1 - MonteCarloIntegral.calculate_integral(self)) / (-1) for _ in range(self.number_of_series)]\n",
    "        return self.list_of_series_deviation\n",
    "    \n",
    "    # Задание №3\n",
    "    # Математическое ожидание для ошибки вычисляем по ЗБЧ\n",
    "    def calculate_math_expectation(self):\n",
    "        self.math_expectation = sum(self.list_of_series_deviation)/self.number_of_series\n",
    "        return self.math_expectation\n",
    "    \n",
    "    # Дисперсия погрешности, стандартная формула\n",
    "    def calculate_variance(self):\n",
    "        self.variance = sum([(i - self.math_expectation)**2 for i in self.list_of_series_deviation])/self.number_of_series\n",
    "        return self.variance       \n",
    "    \n",
    "    # Мода погрешности наиболее встречаемая величина\n",
    "    def calculate_mod(self):\n",
    "        round_list = list(map(lambda x: round(x, 2), self.list_of_series_deviation))\n",
    "        max_count = 0\n",
    "        mod = None\n",
    "        for i in round_list:\n",
    "            if round_list.count(i) > max_count:\n",
    "                max_count = round_list.count(i)\n",
    "                mod = i\n",
    "        return (mod, max_count, round_list)\n",
    "    \n",
    "    # Медиана погрешности\n",
    "    def calculate_median(self):\n",
    "        sorted_list = sorted(self.list_of_series_deviation)\n",
    "        length = int(self.number_of_series / 2)\n",
    "        self.median = \\\n",
    "        (self.list_of_series_deviation[length] + self.list_of_series_deviation[length - 1]) /  2 \n",
    "        return self.median\n",
    "    \n",
    "    # Коэффициент ассиметрии\n",
    "    def calculate_asymmetry(self):\n",
    "        self.assymetry = \\\n",
    "            sum([(i - self.math_expectation)**3 for i in self.list_of_series_deviation])/ \\\n",
    "            (self.number_of_series * self.variance**(3/2))\n",
    "        return self.assymetry\n",
    "    \n",
    "    # Коэффициент эксцесса\n",
    "    def calculate_excess(self):\n",
    "        self.excess = \\\n",
    "            (sum([(i - self.math_expectation)**4 for i in self.list_of_series_deviation])/ \\\n",
    "            (self.number_of_series * self.variance**2)) - 3\n",
    "        return self.excess        "
   ]
  },
  {
   "cell_type": "markdown",
   "id": "29441267",
   "metadata": {},
   "source": [
    "# Задание 1"
   ]
  },
  {
   "cell_type": "code",
   "execution_count": 112,
   "id": "663e9034",
   "metadata": {},
   "outputs": [],
   "source": [
    "#Задание 1\n",
    "#Провести численное вычисление интеграла методом Монте-Карло по 200 сериям,\n",
    "#состоящим из 500 независимых имитаций. \n",
    "\n",
    "# Создаем экземпляр класса\n",
    "M = MonteCarloIntegral()\n"
   ]
  },
  {
   "cell_type": "code",
   "execution_count": 113,
   "id": "a0071ecd",
   "metadata": {},
   "outputs": [
    {
     "name": "stdout",
     "output_type": "stream",
     "text": [
      "[-0.9770137615118735, -0.9491702020387066, -1.0208907011015165, -1.0813095989638173, -0.967050200912183, -0.9427436419047811, -0.9705986112092485, -1.013008974418379, -1.0170586228373102, -0.9864974036930335, -1.0075934397319526, -0.9919209719647497, -0.9183948368777529, -0.9931857754451322, -0.9934098264982206, -1.0262561652376687, -1.038250590319459, -1.044862597427719, -0.9703485749534014, -1.1036423164068168, -0.9378658414177379, -1.0432976805117264, -0.9877082049649307, -0.8821290114169055, -1.0434346985848275, -1.0496533801733698, -1.06502051945362, -1.055564332868343, -1.0021398184293042, -0.9893050990554255, -0.9935539131816932, -0.9923415267413351, -1.0273687015514577, -1.0011859903464007, -1.0707160444218393, -1.024750751848802, -1.042539422705199, -0.9707360560147138, -0.9798153505610194, -1.0661106290825362, -0.9885272465080711, -0.9735470020681134, -1.0222393761487794, -1.0287333865813397, -1.0396042224333466, -1.0234833814764834, -0.9699500796379689, -0.980430036917318, -1.0067883745700983, -0.9639934877842455, -1.030391916775243, -1.0178261222437035, -0.988654563827133, -1.094166210181055, -0.9335228848346092, -0.9792285967033338, -1.0018120036730562, -1.0202804665230722, -1.0760057809726697, -1.0851388458215865, -0.9399801367972558, -0.9889623183875851, -1.0751585132099262, -0.9866631125356283, -1.0608047807703347, -1.0601483259093547, -1.0776415439279279, -1.037499907808314, -0.9987003968823984, -0.9816340698070564, -1.0120513353784613, -1.0066475984615246, -0.9983175613961538, -1.0303816116339013, -0.9748666931522385, -0.9256499323721046, -1.0031334469709348, -0.964836763248948, -0.9884625881185086, -0.9811982173932432, -1.0067854889301646, -0.9565090338966724, -0.98303284192687, -1.0089489377598526, -0.9446673190295546, -1.0524927066195915, -0.9672188016226486, -0.9561696164989935, -0.9594154466772599, -0.9979901369754541, -0.9114498929335334, -1.0218579092471587, -1.0292558071213085, -0.9599971645705309, -1.034734111556626, -1.0084440443066445, -0.985348123323179, -0.9913378956973546, -0.9771274155111316, -0.9287356689559615, -1.0110642171518411, -0.9452789615498266, -1.0498281046919251, -0.9778571009636772, -1.0501792451169167, -1.001795715631236, -0.9806397458374913, -0.9904882612394245, -1.000055873648869, -0.9799036367449753, -1.004267428392838, -1.0100563258264454, -1.112254489479415, -0.9899236318659129, -0.9946591228798038, -1.09806237046871, -1.012052338394171, -1.0213129064826867, -1.0443795359945294, -0.9323516797153438, -0.9844715932935898, -1.0680405435539246, -0.9688237126548417, -0.9493435718839703, -0.9433137049063723, -0.9478740921048716, -1.0556703181032423, -0.97012270861542, -1.0642872999756623, -0.9701343923051594, -1.0189126369306882, -0.9748888051164817, -0.9865102501468476, -0.9288952963092938, -1.0471965941742885, -1.0929198558564657, -1.0373175778378894, -0.9569748732736031, -1.0101838065580093, -0.9580758586713216, -0.981690323674247, -1.0368223116074966, -1.0558228535475251, -1.0394118322268844, -0.9847042741551038, -1.0187796392563016, -1.0001481910043104, -1.0257468406294048, -1.103276493229989, -1.0358089766383092, -1.0224054136550653, -0.9107229584518658, -1.058841401964147, -1.0320559634015485, -0.980017757322326, -1.0929858971375648, -1.0696263783605013, -1.0427583853093247, -1.0183601212515876, -1.0289139744113265, -0.941423566573517, -0.944337366427427, -0.984809580726466, -0.9840076403521943, -0.9589447100374916, -1.0736437128110141, -1.0304341546927385, -1.010561332916135, -1.0011368806379444, -1.013165689522141, -0.9946097307059868, -1.023396228841807, -0.9602513088843754, -1.0022300986735007, -1.0384930968328796, -0.9899484356349184, -0.980784595006607, -1.0053605687621752, -0.9683151884496667, -0.9854485861466692, -1.0237908871302457, -1.0050399397674337, -0.9891614433623858, -1.0295948128198227, -0.996749388573831, -0.9122028739969472, -1.1158867551705733, -1.01957755410448, -1.0135602759259024, -1.0176136701418497, -0.9490840948905515, -1.0244967986864946, -1.016236732885667, -0.9997608758973633, -1.0088978655040655, -1.023495207313323, -0.9923649290959412, -1.0092139366199597, -0.8708652817281927, -0.9613310316663789]\n"
     ]
    }
   ],
   "source": [
    "# Серийное вычисление интеграла\n",
    "print(M.get_series())"
   ]
  },
  {
   "cell_type": "markdown",
   "id": "2090d25f",
   "metadata": {},
   "source": [
    "# Задание 2"
   ]
  },
  {
   "cell_type": "code",
   "execution_count": 114,
   "id": "26c56c2c",
   "metadata": {},
   "outputs": [
    {
     "name": "stdout",
     "output_type": "stream",
     "text": [
      "[0.034582788963122724, -0.012608204456013183, 0.08037710390975339, 0.022465399992602553, -0.01753221878706901, -0.12080761609285151, -0.014140572640556348, 0.01980916086930029, 0.03747321875113829, -0.08790714019633894, -0.06824128021555986, -0.04653306596161744, -0.08918596428671588, 0.022644429672875166, 0.017447799416891008, -0.03530752529794712, 0.032285994452328715, 0.07396441863053749, -0.04321965976397579, 0.05164453287488113, 0.09055198447334623, -0.010121822203222441, -0.025120172929020024, -0.0012805286152837159, -0.03761313120706267, 0.016604965862045296, 0.05712296847617482, -0.008405019515574486, -0.01119093674603433, 0.0043147882559883, -0.007616157235347032, -0.019169991703498646, 0.055673137183859356, 0.06611676738907257, -0.003175226855079094, 0.07586738294100193, 0.04770562595604799, -0.033657372899564386, 0.09634971832696237, -0.05664021609394321, 0.0022760719340987334, 0.020043944928919255, -0.019810005738265968, 0.020587121032792477, 0.12066720993269597, -0.003147330012057026, -0.010975558883502767, -0.03456656883321352, 0.05682190427916467, 0.006274658055442028, 0.09745355842632286, -0.0124654672515212, 0.04597268741430949, 0.0603579798276036, 0.0317985936839722, -0.01684729478710567, 0.059843968126384706, 0.0452148877915004, 0.0009612999662877986, -0.07199583669303844, -0.05332734155554952, 0.023547228854184143, 0.029762729720909986, -0.04953193824313051, 0.014552950992024805, -0.02363007996162536, -0.030605675672612298, 0.028961622237617113, 0.021058895900411545, -0.04123722805627317, -0.04533654252032049, 0.014955215676500822, 0.024148446945393753, -0.04579953178244334, 0.02086507207900301, 0.003128083977491092, 0.023040589933572275, -0.04518613938748994, -0.022554546650468854, -0.021835923637268273, -0.04239325639581337, 0.03690449183091249, 0.04791584362386647, -0.022799843615991078, -0.020638800290519344, 0.016361098745654168, 0.04372447340359098, -0.004807014179619706, 0.06678952550038386, -0.010666383713686667, 0.004142184836346652, -0.04593885306018297, 0.05028436012594917, 0.008195077520367744, -0.07531865946244931, -0.006924708521441447, -0.004963150545761019, 0.06008576956279832, -0.02666966302712903, -0.05760410123692128, 0.054669884542020375, -0.08089633146105313, -0.08066760844938536, 0.04540907514397419, -0.03576520278051665, 0.05341399325825136, 0.011265380804472591, 0.041267084653779706, 0.0043080748644968025, 0.005272243168961133, 0.0705549467174319, 0.026754034666701787, -0.01831937380605342, 0.014517577651778857, 0.014523630265270815, 0.039087878389129305, -0.06250169132738148, 0.01834429629174994, -0.0005212784122887726, 0.009239519550991449, -0.06988495747854384, 0.0656901138963939, 0.07580039775472358, 0.002794674593873947, -0.029406187959760244, -0.0068074347008861835, -0.03305395866180749, -0.046283425546127965, 0.0025486844558260113, -0.02987142341723703, 0.03641537042358678, -0.00919120362690462, -0.08482500135608295, 0.030058762688441765, -0.031314822063097436, -0.04281741768772518, -0.009589075886813125, -0.0460678015606546, -0.010349835763570514, 0.0688548708725959, 0.017824246514395292, -0.07106878316429488, -0.0888220569594591, 0.03524062777939918, 0.057241256954630226, 0.005624054408978618, 0.030680651444043416, 0.0988128949507937, -0.000510818984283512, -0.057610727942730255, -0.08591246673970909, 0.0035346858246785295, 0.06427163786501411, -0.04540425703373829, 0.03883352659571904, 0.06342451050277187, -0.07127867806086785, -0.04977733058963052, 0.05691987832741818, 0.040685828868314844, -0.06972481397545804, -0.07246484217688987, 0.015347388785569294, 0.03454023003512552, -0.04857229623419679, 0.05525527024864474, -0.0772688654730489, -0.03415950407142798, -0.02677445991961802, -0.010377702669942535, -0.005988737327196958, 0.00949733388930174, 0.028285358985028708, 0.018560018205854067, 0.042978294778556525, -0.01795115762049715, 0.02282619135684938, 0.024771693656208127, 0.04545949418696793, -0.0038406039872345143, -0.0452044377907419, 0.020323387728665154, -0.0052369471715261184, 0.0290394272230744, 0.00958446317884476, 0.13214390436390488, 0.043190855405465856, -0.009837569768533339, -0.01803917657739973, 0.07403655732129433, -0.020828224263537365, -0.03221937503846117, 0.12450575191386404, 0.021092410189142985, 0.039232507767655744, 0.026587686805085053, 0.04854618337713634, 0.06310073961785878, 0.012227092793290817, -0.049901666259961175]\n"
     ]
    }
   ],
   "source": [
    "# Серийное вычисление ошибок для интеграла\n",
    "print(M.get_series_deviation())"
   ]
  },
  {
   "cell_type": "markdown",
   "id": "aa855169",
   "metadata": {},
   "source": [
    "# Задание 3\n"
   ]
  },
  {
   "cell_type": "code",
   "execution_count": 115,
   "id": "28699b03",
   "metadata": {},
   "outputs": [
    {
     "name": "stdout",
     "output_type": "stream",
     "text": [
      "0.003953777353022244\n"
     ]
    }
   ],
   "source": [
    "# Вычисление мат.ожидания\n",
    "print(M.calculate_math_expectation())"
   ]
  },
  {
   "cell_type": "code",
   "execution_count": 116,
   "id": "93b79c74",
   "metadata": {
    "scrolled": true
   },
   "outputs": [
    {
     "name": "stdout",
     "output_type": "stream",
     "text": [
      "0.002145047499585257\n"
     ]
    }
   ],
   "source": [
    "# Вычисление дисперсии\n",
    "print(M.calculate_variance())"
   ]
  },
  {
   "cell_type": "code",
   "execution_count": 117,
   "id": "cb4b091c",
   "metadata": {},
   "outputs": [
    {
     "name": "stdout",
     "output_type": "stream",
     "text": [
      "Значение моды: 0.02\n",
      "Кол-во вхождений: 21\n",
      "Список: [0.03, -0.01, 0.08, 0.02, -0.02, -0.12, -0.01, 0.02, 0.04, -0.09, -0.07, -0.05, -0.09, 0.02, 0.02, -0.04, 0.03, 0.07, -0.04, 0.05, 0.09, -0.01, -0.03, -0.0, -0.04, 0.02, 0.06, -0.01, -0.01, 0.0, -0.01, -0.02, 0.06, 0.07, -0.0, 0.08, 0.05, -0.03, 0.1, -0.06, 0.0, 0.02, -0.02, 0.02, 0.12, -0.0, -0.01, -0.03, 0.06, 0.01, 0.1, -0.01, 0.05, 0.06, 0.03, -0.02, 0.06, 0.05, 0.0, -0.07, -0.05, 0.02, 0.03, -0.05, 0.01, -0.02, -0.03, 0.03, 0.02, -0.04, -0.05, 0.01, 0.02, -0.05, 0.02, 0.0, 0.02, -0.05, -0.02, -0.02, -0.04, 0.04, 0.05, -0.02, -0.02, 0.02, 0.04, -0.0, 0.07, -0.01, 0.0, -0.05, 0.05, 0.01, -0.08, -0.01, -0.0, 0.06, -0.03, -0.06, 0.05, -0.08, -0.08, 0.05, -0.04, 0.05, 0.01, 0.04, 0.0, 0.01, 0.07, 0.03, -0.02, 0.01, 0.01, 0.04, -0.06, 0.02, -0.0, 0.01, -0.07, 0.07, 0.08, 0.0, -0.03, -0.01, -0.03, -0.05, 0.0, -0.03, 0.04, -0.01, -0.08, 0.03, -0.03, -0.04, -0.01, -0.05, -0.01, 0.07, 0.02, -0.07, -0.09, 0.04, 0.06, 0.01, 0.03, 0.1, -0.0, -0.06, -0.09, 0.0, 0.06, -0.05, 0.04, 0.06, -0.07, -0.05, 0.06, 0.04, -0.07, -0.07, 0.02, 0.03, -0.05, 0.06, -0.08, -0.03, -0.03, -0.01, -0.01, 0.01, 0.03, 0.02, 0.04, -0.02, 0.02, 0.02, 0.05, -0.0, -0.05, 0.02, -0.01, 0.03, 0.01, 0.13, 0.04, -0.01, -0.02, 0.07, -0.02, -0.03, 0.12, 0.02, 0.04, 0.03, 0.05, 0.06, 0.01, -0.05]\n"
     ]
    }
   ],
   "source": [
    "# Вычисление моды\n",
    "print(f\"Значение моды: {M.calculate_mod()[0]}\\nКол-во вхождений: {M.calculate_mod()[1]}\\nСписок: {M.calculate_mod()[2]}\")\n"
   ]
  },
  {
   "cell_type": "code",
   "execution_count": 118,
   "id": "6c2eb532",
   "metadata": {},
   "outputs": [
    {
     "name": "stdout",
     "output_type": "stream",
     "text": [
      "-0.001467108347450452\n"
     ]
    }
   ],
   "source": [
    "# Вычисление медианы\n",
    "print(M.calculate_median())"
   ]
  },
  {
   "cell_type": "code",
   "execution_count": 119,
   "id": "2d6cb0be",
   "metadata": {},
   "outputs": [
    {
     "name": "stdout",
     "output_type": "stream",
     "text": [
      "0.02621588167226185\n"
     ]
    }
   ],
   "source": [
    "# Вычисление коэффициента ассиметрии\n",
    "print(M.calculate_asymmetry())"
   ]
  },
  {
   "cell_type": "code",
   "execution_count": 120,
   "id": "0155978e",
   "metadata": {},
   "outputs": [
    {
     "name": "stdout",
     "output_type": "stream",
     "text": [
      "-0.2161186080939097\n"
     ]
    }
   ],
   "source": [
    "# Вычисление коэффициента эксцесса\n",
    "print(M.calculate_excess())"
   ]
  },
  {
   "cell_type": "code",
   "execution_count": 121,
   "id": "e5a7b036",
   "metadata": {},
   "outputs": [],
   "source": [
    "# Можно сделать вывод о том, что распределение близко к нормальному, т.к As,Ex Стремятся к нулю(близки к нулю)"
   ]
  },
  {
   "cell_type": "markdown",
   "id": "7a5ce68b",
   "metadata": {},
   "source": [
    "# Задание 4\n"
   ]
  },
  {
   "cell_type": "code",
   "execution_count": 122,
   "id": "44b6fbd1",
   "metadata": {},
   "outputs": [
    {
     "name": "stdout",
     "output_type": "stream",
     "text": [
      "Нет оснований отвергать, что результаты представляют независимую повторную выборку\n"
     ]
    }
   ],
   "source": [
    "KS = 1 \n",
    "for i in range(len(M.list_of_series_deviation)-1):\n",
    "    if M.list_of_series_deviation[i] < 0 and M.list_of_series_deviation[i+1]>0:\n",
    "        KS+=1\n",
    "    elif M.list_of_series_deviation[i] > 0 and M.list_of_series_deviation[i+1]<0:\n",
    "        KS+=1\n",
    "\n",
    "n1 = len([i for i in M.list_of_series_deviation if i > 0])\n",
    "n2 = len([i for i in M.list_of_series_deviation if i < 0])\n",
    "\n",
    "mlty = 2*n1*n2\n",
    "smy = n1 + n2\n",
    "\n",
    "ch = (KS - mlty/smy - 1) - 0.5\n",
    "zn = ((mlty*(mlty - smy))/((smy-1) * smy**2))**0.5\n",
    "\n",
    "Z = ch/zn\n",
    "Z\n",
    "\n",
    "if(Z < 1.96):\n",
    "    print('Нет оснований отвергать, что результаты представляют независимую повторную выборку')\n",
    "else:\n",
    "    print('Результаты нельзя считать независимой повторной выборкой')"
   ]
  },
  {
   "cell_type": "markdown",
   "id": "089275f0",
   "metadata": {},
   "source": [
    "# Задание 5"
   ]
  },
  {
   "cell_type": "code",
   "execution_count": 123,
   "id": "843f7593",
   "metadata": {
    "scrolled": true
   },
   "outputs": [
    {
     "data": {
      "image/png": "[encoded data removed]",
      "text/plain": [
       "<Figure size 432x288 with 1 Axes>"
      ]
     },
     "metadata": {
      "needs_background": "light"
     },
     "output_type": "display_data"
    }
   ],
   "source": [
    "plt.hist(sorted(M.list_of_series_deviation), density=True, color='#18FFD9') \n",
    "\n",
    "mu = M.math_expectation\n",
    "sigma = math.sqrt(M.variance)\n",
    "# Линия - нормальное распределение с вычисленными коэффициентами\n",
    "x = np.linspace(mu - 3*sigma, mu + 3*sigma, 100)\n",
    "plt.plot(x, scipy.stats.norm.pdf(x, mu, sigma), color='C3')\n",
    "\n",
    "plt.show()"
   ]
  },
  {
   "cell_type": "markdown",
   "id": "841ad0d4",
   "metadata": {},
   "source": [
    "# Задание 6"
   ]
  },
  {
   "cell_type": "code",
   "execution_count": 124,
   "id": "0bb0f574",
   "metadata": {
    "scrolled": false
   },
   "outputs": [
    {
     "name": "stderr",
     "output_type": "stream",
     "text": [
      "D:\\conda\\lib\\site-packages\\seaborn\\distributions.py:2619: FutureWarning: `distplot` is a deprecated function and will be removed in a future version. Please adapt your code to use either `displot` (a figure-level function with similar flexibility) or `histplot` (an axes-level function for histograms).\n",
      "  warnings.warn(msg, FutureWarning)\n"
     ]
    },
    {
     "data": {
      "image/png": "[encoded data removed]",
      "text/plain": [
       "<Figure size 432x288 with 1 Axes>"
      ]
     },
     "metadata": {
      "needs_background": "light"
     },
     "output_type": "display_data"
    }
   ],
   "source": [
    "# График функции плотности для распределения\n",
    "sns_plot = sns.distplot(sorted(M.list_of_series_deviation))"
   ]
  },
  {
   "cell_type": "markdown",
   "id": "d56d0135",
   "metadata": {},
   "source": [
    "# Задание 7"
   ]
  },
  {
   "cell_type": "code",
   "execution_count": 125,
   "id": "f3ad59c9",
   "metadata": {},
   "outputs": [],
   "source": [
    "# граница доверительного интервала при известной дисперсии\n",
    "norm_deviation = 1.96 * (M.variance/(M.number_of_series*M.number_of_iteration))**0.5"
   ]
  },
  {
   "cell_type": "code",
   "execution_count": 126,
   "id": "201dd498",
   "metadata": {
    "scrolled": true
   },
   "outputs": [
    {
     "data": {
      "text/plain": [
       "(0.0036667161317748115, 0.004240838574269676)"
      ]
     },
     "execution_count": 126,
     "metadata": {},
     "output_type": "execute_result"
    }
   ],
   "source": [
    "# Доверительный интервал для мат. ожидания \n",
    "(M.math_expectation-norm_deviation, M.math_expectation+norm_deviation)"
   ]
  },
  {
   "cell_type": "markdown",
   "id": "2bd87b61",
   "metadata": {},
   "source": [
    "# Задание 8"
   ]
  },
  {
   "cell_type": "code",
   "execution_count": 127,
   "id": "28dc2008",
   "metadata": {},
   "outputs": [],
   "source": [
    "# Проверка гипотезы о равенестве нулю мат.ожидания"
   ]
  },
  {
   "cell_type": "code",
   "execution_count": 128,
   "id": "9e396ad0",
   "metadata": {},
   "outputs": [
    {
     "data": {
      "text/plain": [
       "26.995647751543583"
      ]
     },
     "execution_count": 128,
     "metadata": {},
     "output_type": "execute_result"
    }
   ],
   "source": [
    "# Статистика критерия для гипотезы о равенстве нулю мат.ожидания\n",
    "U = ((M.number_of_series*M.number_of_iteration)**0.5)*M.math_expectation/(M.variance)**0.5\n",
    "U\n",
    "# не попало в критическую область следовательно нет оснований полагать, что мат. ожидание не равно нулю"
   ]
  },
  {
   "cell_type": "markdown",
   "id": "678509e8",
   "metadata": {},
   "source": [
    "# Задание 9"
   ]
  },
  {
   "cell_type": "code",
   "execution_count": 129,
   "id": "212b81cc",
   "metadata": {},
   "outputs": [
    {
     "name": "stdout",
     "output_type": "stream",
     "text": [
      "Нулевая гипотеза не может быть отвергнута\n",
      "Уровень значимости 0.879002916381221\n"
     ]
    }
   ],
   "source": [
    "# Проверка гипотезы о нормальности распределения\n",
    "val, p_value = scipy.stats.normaltest(M.list_of_series_deviation)\n",
    "if p_value < 0.05:\n",
    "    print(\"Нулевая гипотеза может быть отвергнута\\nУровень значимости\", p_value)\n",
    "else:\n",
    "    print(\"Нулевая гипотеза не может быть отвергнута\\nУровень значимости\", p_value)\n",
    "    "
   ]
  },
  {
   "cell_type": "code",
   "execution_count": 130,
   "id": "2c3e93e2",
   "metadata": {},
   "outputs": [
    {
     "data": {
      "text/plain": [
       "0.4121361880988756"
      ]
     },
     "execution_count": 130,
     "metadata": {},
     "output_type": "execute_result"
    }
   ],
   "source": [
    "n = len(M.list_of_series_deviation)\n",
    "asm = M.calculate_asymmetry()\n",
    "exc = M.calculate_excess()\n",
    "JB = (n/6)*((asm)**2+((exc)**2)/4)\n",
    "\n",
    "JB"
   ]
  },
  {
   "cell_type": "code",
   "execution_count": 131,
   "id": "6e95f591",
   "metadata": {},
   "outputs": [
    {
     "name": "stdout",
     "output_type": "stream",
     "text": [
      "нет оснований полагать, что это распределение ненормальное\n"
     ]
    }
   ],
   "source": [
    "if JB > 5.991:\n",
    "    print(\"Гипотеза о нормальном распределении отклоняется\")\n",
    "else:\n",
    "    print(\"нет оснований полагать, что это распределение ненормальное\")"
   ]
  },
  {
   "cell_type": "code",
   "execution_count": null,
   "id": "699c55c8",
   "metadata": {},
   "outputs": [],
   "source": []
  }
 ],
 "metadata": {
  "kernelspec": {
   "display_name": "Python 3 (ipykernel)",
   "language": "python",
   "name": "python3"
  },
  "language_info": {
   "codemirror_mode": {
    "name": "ipython",
    "version": 3
   },
   "file_extension": ".py",
   "mimetype": "text/x-python",
   "name": "python",
   "nbconvert_exporter": "python",
   "pygments_lexer": "ipython3",
   "version": "3.9.7"
  }
 },
 "nbformat": 4,
 "nbformat_minor": 5
}
